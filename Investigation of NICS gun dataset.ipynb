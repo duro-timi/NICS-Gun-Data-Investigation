{
 "cells": [
  {
   "cell_type": "markdown",
   "id": "3ce5af4d",
   "metadata": {},
   "source": [
    "# Project: Investigating NICS Gun Dataset\n",
    "## Table of contents\n",
    "<ul>\n",
    "    <li>Introduction</li>\n",
    "    <li>Data Wrangling</li>\n",
    "    <li>Exploratory Data Analysis</li>\n",
    "    <li>Conclusion</li>\n",
    "</ul>"
   ]
  },
  {
   "cell_type": "markdown",
   "id": "4e1fb28d",
   "metadata": {},
   "source": [
    "## Introduction\n",
    "This project is about investigating the NICS data. The data contains the number of firearm checks by month (ranging from 1997 up till 2017), state(the states of America), and types (basically handguns and longguns). \n",
    "This data will be investigated in order to find trends, patterns and so much more with the aid of python Data analyis libraies."
   ]
  },
  {
   "cell_type": "markdown",
   "id": "a76cca67",
   "metadata": {},
   "source": [
    "## Questions to be explored\n",
    "1. What State had the highest Gun Registration\n",
    "2. What is the state with the macimum gun growth trend\n",
    "3. What is the trend of gun registration over the years\n",
    "4. Analyze and Compare the Guns bought in the state with the highest Gun Registration\n",
    "5. Show the Frequency Distribution of the Data with appropriate graphs."
   ]
  },
  {
   "cell_type": "code",
   "execution_count": 1,
   "id": "e3ccf37d",
   "metadata": {},
   "outputs": [],
   "source": [
    "#import the neccesary libraries and give them easy aliases to be used\n",
    "import numpy as np\n",
    "import pandas as pd\n",
    "import matplotlib.pyplot as plt\n",
    "%matplotlib inline"
   ]
  },
  {
   "cell_type": "markdown",
   "id": "64cf494c",
   "metadata": {},
   "source": [
    "This libraries are highly important for the data analysis process."
   ]
  },
  {
   "cell_type": "markdown",
   "id": "d96c0f40",
   "metadata": {},
   "source": [
    "## Data Wrangling\n",
    "This section of the project deals with loading the data into the environment, cleaning the data, dropping of some columns etc."
   ]
  },
  {
   "cell_type": "code",
   "execution_count": 3,
   "id": "ac9296d9",
   "metadata": {},
   "outputs": [
    {
     "data": {
      "text/html": [
       "<div>\n",
       "<style scoped>\n",
       "    .dataframe tbody tr th:only-of-type {\n",
       "        vertical-align: middle;\n",
       "    }\n",
       "\n",
       "    .dataframe tbody tr th {\n",
       "        vertical-align: top;\n",
       "    }\n",
       "\n",
       "    .dataframe thead th {\n",
       "        text-align: right;\n",
       "    }\n",
       "</style>\n",
       "<table border=\"1\" class=\"dataframe\">\n",
       "  <thead>\n",
       "    <tr style=\"text-align: right;\">\n",
       "      <th></th>\n",
       "      <th>month</th>\n",
       "      <th>state</th>\n",
       "      <th>permit</th>\n",
       "      <th>permit_recheck</th>\n",
       "      <th>handgun</th>\n",
       "      <th>long_gun</th>\n",
       "      <th>other</th>\n",
       "      <th>multiple</th>\n",
       "      <th>admin</th>\n",
       "      <th>prepawn_handgun</th>\n",
       "      <th>...</th>\n",
       "      <th>returned_other</th>\n",
       "      <th>rentals_handgun</th>\n",
       "      <th>rentals_long_gun</th>\n",
       "      <th>private_sale_handgun</th>\n",
       "      <th>private_sale_long_gun</th>\n",
       "      <th>private_sale_other</th>\n",
       "      <th>return_to_seller_handgun</th>\n",
       "      <th>return_to_seller_long_gun</th>\n",
       "      <th>return_to_seller_other</th>\n",
       "      <th>totals</th>\n",
       "    </tr>\n",
       "  </thead>\n",
       "  <tbody>\n",
       "    <tr>\n",
       "      <th>0</th>\n",
       "      <td>2017-09</td>\n",
       "      <td>Alabama</td>\n",
       "      <td>16717.0</td>\n",
       "      <td>0.0</td>\n",
       "      <td>5734.0</td>\n",
       "      <td>6320.0</td>\n",
       "      <td>221.0</td>\n",
       "      <td>317</td>\n",
       "      <td>0.0</td>\n",
       "      <td>15.0</td>\n",
       "      <td>...</td>\n",
       "      <td>0.0</td>\n",
       "      <td>0.0</td>\n",
       "      <td>0.0</td>\n",
       "      <td>9.0</td>\n",
       "      <td>16.0</td>\n",
       "      <td>3.0</td>\n",
       "      <td>0.0</td>\n",
       "      <td>0.0</td>\n",
       "      <td>3.0</td>\n",
       "      <td>32019</td>\n",
       "    </tr>\n",
       "    <tr>\n",
       "      <th>1</th>\n",
       "      <td>2017-09</td>\n",
       "      <td>Alaska</td>\n",
       "      <td>209.0</td>\n",
       "      <td>2.0</td>\n",
       "      <td>2320.0</td>\n",
       "      <td>2930.0</td>\n",
       "      <td>219.0</td>\n",
       "      <td>160</td>\n",
       "      <td>0.0</td>\n",
       "      <td>5.0</td>\n",
       "      <td>...</td>\n",
       "      <td>0.0</td>\n",
       "      <td>0.0</td>\n",
       "      <td>0.0</td>\n",
       "      <td>17.0</td>\n",
       "      <td>24.0</td>\n",
       "      <td>1.0</td>\n",
       "      <td>0.0</td>\n",
       "      <td>0.0</td>\n",
       "      <td>0.0</td>\n",
       "      <td>6303</td>\n",
       "    </tr>\n",
       "    <tr>\n",
       "      <th>2</th>\n",
       "      <td>2017-09</td>\n",
       "      <td>Arizona</td>\n",
       "      <td>5069.0</td>\n",
       "      <td>382.0</td>\n",
       "      <td>11063.0</td>\n",
       "      <td>7946.0</td>\n",
       "      <td>920.0</td>\n",
       "      <td>631</td>\n",
       "      <td>0.0</td>\n",
       "      <td>13.0</td>\n",
       "      <td>...</td>\n",
       "      <td>0.0</td>\n",
       "      <td>0.0</td>\n",
       "      <td>0.0</td>\n",
       "      <td>38.0</td>\n",
       "      <td>12.0</td>\n",
       "      <td>2.0</td>\n",
       "      <td>0.0</td>\n",
       "      <td>0.0</td>\n",
       "      <td>0.0</td>\n",
       "      <td>28394</td>\n",
       "    </tr>\n",
       "    <tr>\n",
       "      <th>3</th>\n",
       "      <td>2017-09</td>\n",
       "      <td>Arkansas</td>\n",
       "      <td>2935.0</td>\n",
       "      <td>632.0</td>\n",
       "      <td>4347.0</td>\n",
       "      <td>6063.0</td>\n",
       "      <td>165.0</td>\n",
       "      <td>366</td>\n",
       "      <td>51.0</td>\n",
       "      <td>12.0</td>\n",
       "      <td>...</td>\n",
       "      <td>0.0</td>\n",
       "      <td>0.0</td>\n",
       "      <td>0.0</td>\n",
       "      <td>13.0</td>\n",
       "      <td>23.0</td>\n",
       "      <td>0.0</td>\n",
       "      <td>0.0</td>\n",
       "      <td>2.0</td>\n",
       "      <td>1.0</td>\n",
       "      <td>17747</td>\n",
       "    </tr>\n",
       "    <tr>\n",
       "      <th>4</th>\n",
       "      <td>2017-09</td>\n",
       "      <td>California</td>\n",
       "      <td>57839.0</td>\n",
       "      <td>0.0</td>\n",
       "      <td>37165.0</td>\n",
       "      <td>24581.0</td>\n",
       "      <td>2984.0</td>\n",
       "      <td>0</td>\n",
       "      <td>0.0</td>\n",
       "      <td>0.0</td>\n",
       "      <td>...</td>\n",
       "      <td>0.0</td>\n",
       "      <td>0.0</td>\n",
       "      <td>0.0</td>\n",
       "      <td>0.0</td>\n",
       "      <td>0.0</td>\n",
       "      <td>0.0</td>\n",
       "      <td>0.0</td>\n",
       "      <td>0.0</td>\n",
       "      <td>0.0</td>\n",
       "      <td>123506</td>\n",
       "    </tr>\n",
       "  </tbody>\n",
       "</table>\n",
       "<p>5 rows × 27 columns</p>\n",
       "</div>"
      ],
      "text/plain": [
       "     month       state   permit  permit_recheck  handgun  long_gun   other  \\\n",
       "0  2017-09     Alabama  16717.0             0.0   5734.0    6320.0   221.0   \n",
       "1  2017-09      Alaska    209.0             2.0   2320.0    2930.0   219.0   \n",
       "2  2017-09     Arizona   5069.0           382.0  11063.0    7946.0   920.0   \n",
       "3  2017-09    Arkansas   2935.0           632.0   4347.0    6063.0   165.0   \n",
       "4  2017-09  California  57839.0             0.0  37165.0   24581.0  2984.0   \n",
       "\n",
       "   multiple  admin  prepawn_handgun  ...  returned_other  rentals_handgun  \\\n",
       "0       317    0.0             15.0  ...             0.0              0.0   \n",
       "1       160    0.0              5.0  ...             0.0              0.0   \n",
       "2       631    0.0             13.0  ...             0.0              0.0   \n",
       "3       366   51.0             12.0  ...             0.0              0.0   \n",
       "4         0    0.0              0.0  ...             0.0              0.0   \n",
       "\n",
       "   rentals_long_gun  private_sale_handgun  private_sale_long_gun  \\\n",
       "0               0.0                   9.0                   16.0   \n",
       "1               0.0                  17.0                   24.0   \n",
       "2               0.0                  38.0                   12.0   \n",
       "3               0.0                  13.0                   23.0   \n",
       "4               0.0                   0.0                    0.0   \n",
       "\n",
       "   private_sale_other  return_to_seller_handgun  return_to_seller_long_gun  \\\n",
       "0                 3.0                       0.0                        0.0   \n",
       "1                 1.0                       0.0                        0.0   \n",
       "2                 2.0                       0.0                        0.0   \n",
       "3                 0.0                       0.0                        2.0   \n",
       "4                 0.0                       0.0                        0.0   \n",
       "\n",
       "   return_to_seller_other  totals  \n",
       "0                     3.0   32019  \n",
       "1                     0.0    6303  \n",
       "2                     0.0   28394  \n",
       "3                     1.0   17747  \n",
       "4                     0.0  123506  \n",
       "\n",
       "[5 rows x 27 columns]"
      ]
     },
     "execution_count": 3,
     "metadata": {},
     "output_type": "execute_result"
    }
   ],
   "source": [
    "# Load the gun data into the environment, and print out few lines using the .head() function\n",
    "#The .head() function is a builtin function that prints out the first 5 items of the data\n",
    "\n",
    "GunData= pd.read_excel('gun_data.xlsx')\n",
    "GunData.head()"
   ]
  },
  {
   "cell_type": "markdown",
   "id": "f1d6489b",
   "metadata": {},
   "source": [
    "This result shows that there are 27 columns in this dataset, and the .head() function duly returns the first five columns starting at 0."
   ]
  },
  {
   "cell_type": "code",
   "execution_count": 4,
   "id": "6101cfcb",
   "metadata": {},
   "outputs": [
    {
     "data": {
      "text/plain": [
       "(12485, 27)"
      ]
     },
     "execution_count": 4,
     "metadata": {},
     "output_type": "execute_result"
    }
   ],
   "source": [
    "#Get the total number of rows and columns using the .shape method\n",
    "GunData.shape"
   ]
  },
  {
   "cell_type": "markdown",
   "id": "64640a51",
   "metadata": {},
   "source": [
    "The result is a tuple which shows the total number of rows which is 12485 and the total number of columns which is 27."
   ]
  },
  {
   "cell_type": "code",
   "execution_count": 5,
   "id": "9a89688a",
   "metadata": {},
   "outputs": [
    {
     "name": "stdout",
     "output_type": "stream",
     "text": [
      "<class 'pandas.core.frame.DataFrame'>\n",
      "RangeIndex: 12485 entries, 0 to 12484\n",
      "Data columns (total 27 columns):\n",
      " #   Column                     Non-Null Count  Dtype  \n",
      "---  ------                     --------------  -----  \n",
      " 0   month                      12485 non-null  object \n",
      " 1   state                      12485 non-null  object \n",
      " 2   permit                     12461 non-null  float64\n",
      " 3   permit_recheck             1100 non-null   float64\n",
      " 4   handgun                    12465 non-null  float64\n",
      " 5   long_gun                   12466 non-null  float64\n",
      " 6   other                      5500 non-null   float64\n",
      " 7   multiple                   12485 non-null  int64  \n",
      " 8   admin                      12462 non-null  float64\n",
      " 9   prepawn_handgun            10542 non-null  float64\n",
      " 10  prepawn_long_gun           10540 non-null  float64\n",
      " 11  prepawn_other              5115 non-null   float64\n",
      " 12  redemption_handgun         10545 non-null  float64\n",
      " 13  redemption_long_gun        10544 non-null  float64\n",
      " 14  redemption_other           5115 non-null   float64\n",
      " 15  returned_handgun           2200 non-null   float64\n",
      " 16  returned_long_gun          2145 non-null   float64\n",
      " 17  returned_other             1815 non-null   float64\n",
      " 18  rentals_handgun            990 non-null    float64\n",
      " 19  rentals_long_gun           825 non-null    float64\n",
      " 20  private_sale_handgun       2750 non-null   float64\n",
      " 21  private_sale_long_gun      2750 non-null   float64\n",
      " 22  private_sale_other         2750 non-null   float64\n",
      " 23  return_to_seller_handgun   2475 non-null   float64\n",
      " 24  return_to_seller_long_gun  2750 non-null   float64\n",
      " 25  return_to_seller_other     2255 non-null   float64\n",
      " 26  totals                     12485 non-null  int64  \n",
      "dtypes: float64(23), int64(2), object(2)\n",
      "memory usage: 2.6+ MB\n"
     ]
    }
   ],
   "source": [
    "#Get the summarized information of the dataset using the .info() method\n",
    "GunData.info()"
   ]
  },
  {
   "cell_type": "markdown",
   "id": "5eb9ba4e",
   "metadata": {},
   "source": [
    "This result shows the columns and the total values each column has, it also shows the data type(object, int, float). From the result, it can also be seen that not all the columns are up to 12485 entries, this can be akinned to missing data."
   ]
  },
  {
   "cell_type": "code",
   "execution_count": 6,
   "id": "b5f6d9b4",
   "metadata": {},
   "outputs": [
    {
     "data": {
      "text/html": [
       "<div>\n",
       "<style scoped>\n",
       "    .dataframe tbody tr th:only-of-type {\n",
       "        vertical-align: middle;\n",
       "    }\n",
       "\n",
       "    .dataframe tbody tr th {\n",
       "        vertical-align: top;\n",
       "    }\n",
       "\n",
       "    .dataframe thead th {\n",
       "        text-align: right;\n",
       "    }\n",
       "</style>\n",
       "<table border=\"1\" class=\"dataframe\">\n",
       "  <thead>\n",
       "    <tr style=\"text-align: right;\">\n",
       "      <th></th>\n",
       "      <th>permit</th>\n",
       "      <th>permit_recheck</th>\n",
       "      <th>handgun</th>\n",
       "      <th>long_gun</th>\n",
       "      <th>other</th>\n",
       "      <th>multiple</th>\n",
       "      <th>admin</th>\n",
       "      <th>prepawn_handgun</th>\n",
       "      <th>prepawn_long_gun</th>\n",
       "      <th>prepawn_other</th>\n",
       "      <th>...</th>\n",
       "      <th>returned_other</th>\n",
       "      <th>rentals_handgun</th>\n",
       "      <th>rentals_long_gun</th>\n",
       "      <th>private_sale_handgun</th>\n",
       "      <th>private_sale_long_gun</th>\n",
       "      <th>private_sale_other</th>\n",
       "      <th>return_to_seller_handgun</th>\n",
       "      <th>return_to_seller_long_gun</th>\n",
       "      <th>return_to_seller_other</th>\n",
       "      <th>totals</th>\n",
       "    </tr>\n",
       "  </thead>\n",
       "  <tbody>\n",
       "    <tr>\n",
       "      <th>count</th>\n",
       "      <td>12461.000000</td>\n",
       "      <td>1100.000000</td>\n",
       "      <td>12465.000000</td>\n",
       "      <td>12466.000000</td>\n",
       "      <td>5500.000000</td>\n",
       "      <td>12485.000000</td>\n",
       "      <td>12462.000000</td>\n",
       "      <td>10542.000000</td>\n",
       "      <td>10540.000000</td>\n",
       "      <td>5115.000000</td>\n",
       "      <td>...</td>\n",
       "      <td>1815.000000</td>\n",
       "      <td>990.000000</td>\n",
       "      <td>825.000000</td>\n",
       "      <td>2750.000000</td>\n",
       "      <td>2750.000000</td>\n",
       "      <td>2750.000000</td>\n",
       "      <td>2475.000000</td>\n",
       "      <td>2750.000000</td>\n",
       "      <td>2255.000000</td>\n",
       "      <td>12485.000000</td>\n",
       "    </tr>\n",
       "    <tr>\n",
       "      <th>mean</th>\n",
       "      <td>6413.629404</td>\n",
       "      <td>1165.956364</td>\n",
       "      <td>5940.881107</td>\n",
       "      <td>7810.847585</td>\n",
       "      <td>360.471636</td>\n",
       "      <td>268.603364</td>\n",
       "      <td>58.898090</td>\n",
       "      <td>4.828021</td>\n",
       "      <td>7.834156</td>\n",
       "      <td>0.165591</td>\n",
       "      <td>...</td>\n",
       "      <td>1.027548</td>\n",
       "      <td>0.076768</td>\n",
       "      <td>0.087273</td>\n",
       "      <td>14.936000</td>\n",
       "      <td>11.602909</td>\n",
       "      <td>1.030182</td>\n",
       "      <td>0.402020</td>\n",
       "      <td>0.441818</td>\n",
       "      <td>0.105987</td>\n",
       "      <td>21595.725911</td>\n",
       "    </tr>\n",
       "    <tr>\n",
       "      <th>std</th>\n",
       "      <td>23752.338269</td>\n",
       "      <td>9224.200609</td>\n",
       "      <td>8618.584060</td>\n",
       "      <td>9309.846140</td>\n",
       "      <td>1349.478273</td>\n",
       "      <td>783.185073</td>\n",
       "      <td>604.814818</td>\n",
       "      <td>10.907756</td>\n",
       "      <td>16.468028</td>\n",
       "      <td>1.057105</td>\n",
       "      <td>...</td>\n",
       "      <td>4.386296</td>\n",
       "      <td>0.634503</td>\n",
       "      <td>0.671649</td>\n",
       "      <td>71.216021</td>\n",
       "      <td>54.253090</td>\n",
       "      <td>4.467843</td>\n",
       "      <td>1.446568</td>\n",
       "      <td>1.528223</td>\n",
       "      <td>0.427363</td>\n",
       "      <td>32591.418387</td>\n",
       "    </tr>\n",
       "    <tr>\n",
       "      <th>min</th>\n",
       "      <td>0.000000</td>\n",
       "      <td>0.000000</td>\n",
       "      <td>0.000000</td>\n",
       "      <td>0.000000</td>\n",
       "      <td>0.000000</td>\n",
       "      <td>0.000000</td>\n",
       "      <td>0.000000</td>\n",
       "      <td>0.000000</td>\n",
       "      <td>0.000000</td>\n",
       "      <td>0.000000</td>\n",
       "      <td>...</td>\n",
       "      <td>0.000000</td>\n",
       "      <td>0.000000</td>\n",
       "      <td>0.000000</td>\n",
       "      <td>0.000000</td>\n",
       "      <td>0.000000</td>\n",
       "      <td>0.000000</td>\n",
       "      <td>0.000000</td>\n",
       "      <td>0.000000</td>\n",
       "      <td>0.000000</td>\n",
       "      <td>0.000000</td>\n",
       "    </tr>\n",
       "    <tr>\n",
       "      <th>25%</th>\n",
       "      <td>0.000000</td>\n",
       "      <td>0.000000</td>\n",
       "      <td>865.000000</td>\n",
       "      <td>2078.250000</td>\n",
       "      <td>17.000000</td>\n",
       "      <td>15.000000</td>\n",
       "      <td>0.000000</td>\n",
       "      <td>0.000000</td>\n",
       "      <td>0.000000</td>\n",
       "      <td>0.000000</td>\n",
       "      <td>...</td>\n",
       "      <td>0.000000</td>\n",
       "      <td>0.000000</td>\n",
       "      <td>0.000000</td>\n",
       "      <td>0.000000</td>\n",
       "      <td>0.000000</td>\n",
       "      <td>0.000000</td>\n",
       "      <td>0.000000</td>\n",
       "      <td>0.000000</td>\n",
       "      <td>0.000000</td>\n",
       "      <td>4638.000000</td>\n",
       "    </tr>\n",
       "    <tr>\n",
       "      <th>50%</th>\n",
       "      <td>518.000000</td>\n",
       "      <td>0.000000</td>\n",
       "      <td>3059.000000</td>\n",
       "      <td>5122.000000</td>\n",
       "      <td>121.000000</td>\n",
       "      <td>125.000000</td>\n",
       "      <td>0.000000</td>\n",
       "      <td>0.000000</td>\n",
       "      <td>1.000000</td>\n",
       "      <td>0.000000</td>\n",
       "      <td>...</td>\n",
       "      <td>0.000000</td>\n",
       "      <td>0.000000</td>\n",
       "      <td>0.000000</td>\n",
       "      <td>0.000000</td>\n",
       "      <td>0.000000</td>\n",
       "      <td>0.000000</td>\n",
       "      <td>0.000000</td>\n",
       "      <td>0.000000</td>\n",
       "      <td>0.000000</td>\n",
       "      <td>12399.000000</td>\n",
       "    </tr>\n",
       "    <tr>\n",
       "      <th>75%</th>\n",
       "      <td>4272.000000</td>\n",
       "      <td>0.000000</td>\n",
       "      <td>7280.000000</td>\n",
       "      <td>10380.750000</td>\n",
       "      <td>354.000000</td>\n",
       "      <td>301.000000</td>\n",
       "      <td>0.000000</td>\n",
       "      <td>5.000000</td>\n",
       "      <td>8.000000</td>\n",
       "      <td>0.000000</td>\n",
       "      <td>...</td>\n",
       "      <td>0.000000</td>\n",
       "      <td>0.000000</td>\n",
       "      <td>0.000000</td>\n",
       "      <td>2.000000</td>\n",
       "      <td>4.000000</td>\n",
       "      <td>0.000000</td>\n",
       "      <td>0.000000</td>\n",
       "      <td>0.000000</td>\n",
       "      <td>0.000000</td>\n",
       "      <td>25453.000000</td>\n",
       "    </tr>\n",
       "    <tr>\n",
       "      <th>max</th>\n",
       "      <td>522188.000000</td>\n",
       "      <td>116681.000000</td>\n",
       "      <td>107224.000000</td>\n",
       "      <td>108058.000000</td>\n",
       "      <td>77929.000000</td>\n",
       "      <td>38907.000000</td>\n",
       "      <td>28083.000000</td>\n",
       "      <td>164.000000</td>\n",
       "      <td>269.000000</td>\n",
       "      <td>49.000000</td>\n",
       "      <td>...</td>\n",
       "      <td>64.000000</td>\n",
       "      <td>12.000000</td>\n",
       "      <td>12.000000</td>\n",
       "      <td>1017.000000</td>\n",
       "      <td>777.000000</td>\n",
       "      <td>71.000000</td>\n",
       "      <td>28.000000</td>\n",
       "      <td>17.000000</td>\n",
       "      <td>4.000000</td>\n",
       "      <td>541978.000000</td>\n",
       "    </tr>\n",
       "  </tbody>\n",
       "</table>\n",
       "<p>8 rows × 25 columns</p>\n",
       "</div>"
      ],
      "text/plain": [
       "              permit  permit_recheck        handgun       long_gun  \\\n",
       "count   12461.000000     1100.000000   12465.000000   12466.000000   \n",
       "mean     6413.629404     1165.956364    5940.881107    7810.847585   \n",
       "std     23752.338269     9224.200609    8618.584060    9309.846140   \n",
       "min         0.000000        0.000000       0.000000       0.000000   \n",
       "25%         0.000000        0.000000     865.000000    2078.250000   \n",
       "50%       518.000000        0.000000    3059.000000    5122.000000   \n",
       "75%      4272.000000        0.000000    7280.000000   10380.750000   \n",
       "max    522188.000000   116681.000000  107224.000000  108058.000000   \n",
       "\n",
       "              other      multiple         admin  prepawn_handgun  \\\n",
       "count   5500.000000  12485.000000  12462.000000     10542.000000   \n",
       "mean     360.471636    268.603364     58.898090         4.828021   \n",
       "std     1349.478273    783.185073    604.814818        10.907756   \n",
       "min        0.000000      0.000000      0.000000         0.000000   \n",
       "25%       17.000000     15.000000      0.000000         0.000000   \n",
       "50%      121.000000    125.000000      0.000000         0.000000   \n",
       "75%      354.000000    301.000000      0.000000         5.000000   \n",
       "max    77929.000000  38907.000000  28083.000000       164.000000   \n",
       "\n",
       "       prepawn_long_gun  prepawn_other  ...  returned_other  rentals_handgun  \\\n",
       "count      10540.000000    5115.000000  ...     1815.000000       990.000000   \n",
       "mean           7.834156       0.165591  ...        1.027548         0.076768   \n",
       "std           16.468028       1.057105  ...        4.386296         0.634503   \n",
       "min            0.000000       0.000000  ...        0.000000         0.000000   \n",
       "25%            0.000000       0.000000  ...        0.000000         0.000000   \n",
       "50%            1.000000       0.000000  ...        0.000000         0.000000   \n",
       "75%            8.000000       0.000000  ...        0.000000         0.000000   \n",
       "max          269.000000      49.000000  ...       64.000000        12.000000   \n",
       "\n",
       "       rentals_long_gun  private_sale_handgun  private_sale_long_gun  \\\n",
       "count        825.000000           2750.000000            2750.000000   \n",
       "mean           0.087273             14.936000              11.602909   \n",
       "std            0.671649             71.216021              54.253090   \n",
       "min            0.000000              0.000000               0.000000   \n",
       "25%            0.000000              0.000000               0.000000   \n",
       "50%            0.000000              0.000000               0.000000   \n",
       "75%            0.000000              2.000000               4.000000   \n",
       "max           12.000000           1017.000000             777.000000   \n",
       "\n",
       "       private_sale_other  return_to_seller_handgun  \\\n",
       "count         2750.000000               2475.000000   \n",
       "mean             1.030182                  0.402020   \n",
       "std              4.467843                  1.446568   \n",
       "min              0.000000                  0.000000   \n",
       "25%              0.000000                  0.000000   \n",
       "50%              0.000000                  0.000000   \n",
       "75%              0.000000                  0.000000   \n",
       "max             71.000000                 28.000000   \n",
       "\n",
       "       return_to_seller_long_gun  return_to_seller_other         totals  \n",
       "count                2750.000000             2255.000000   12485.000000  \n",
       "mean                    0.441818                0.105987   21595.725911  \n",
       "std                     1.528223                0.427363   32591.418387  \n",
       "min                     0.000000                0.000000       0.000000  \n",
       "25%                     0.000000                0.000000    4638.000000  \n",
       "50%                     0.000000                0.000000   12399.000000  \n",
       "75%                     0.000000                0.000000   25453.000000  \n",
       "max                    17.000000                4.000000  541978.000000  \n",
       "\n",
       "[8 rows x 25 columns]"
      ]
     },
     "execution_count": 6,
     "metadata": {},
     "output_type": "execute_result"
    }
   ],
   "source": [
    "#Get the statistical summary of the data using .describe() function\n",
    "GunData.describe()"
   ]
  },
  {
   "cell_type": "markdown",
   "id": "3d153d85",
   "metadata": {},
   "source": [
    "From the output we see the total count of each variable, the mean value, the standard deviations, the minimum value which was basically 0 for all the varibles, the percentiles range and lastly the maximum values of the variables"
   ]
  },
  {
   "cell_type": "code",
   "execution_count": 7,
   "id": "1f612327",
   "metadata": {},
   "outputs": [
    {
     "data": {
      "text/plain": [
       "month                            0\n",
       "state                            0\n",
       "permit                          24\n",
       "permit_recheck               11385\n",
       "handgun                         20\n",
       "long_gun                        19\n",
       "other                         6985\n",
       "multiple                         0\n",
       "admin                           23\n",
       "prepawn_handgun               1943\n",
       "prepawn_long_gun              1945\n",
       "prepawn_other                 7370\n",
       "redemption_handgun            1940\n",
       "redemption_long_gun           1941\n",
       "redemption_other              7370\n",
       "returned_handgun             10285\n",
       "returned_long_gun            10340\n",
       "returned_other               10670\n",
       "rentals_handgun              11495\n",
       "rentals_long_gun             11660\n",
       "private_sale_handgun          9735\n",
       "private_sale_long_gun         9735\n",
       "private_sale_other            9735\n",
       "return_to_seller_handgun     10010\n",
       "return_to_seller_long_gun     9735\n",
       "return_to_seller_other       10230\n",
       "totals                           0\n",
       "dtype: int64"
      ]
     },
     "execution_count": 7,
     "metadata": {},
     "output_type": "execute_result"
    }
   ],
   "source": [
    "#Get the total number of null values for each column in the data\n",
    "GunData.isna().sum()"
   ]
  },
  {
   "cell_type": "markdown",
   "id": "def16407",
   "metadata": {},
   "source": [
    "The output here shows each column with the total number of null values they each have."
   ]
  },
  {
   "cell_type": "code",
   "execution_count": 9,
   "id": "2fd064a3",
   "metadata": {},
   "outputs": [
    {
     "data": {
      "text/html": [
       "<div>\n",
       "<style scoped>\n",
       "    .dataframe tbody tr th:only-of-type {\n",
       "        vertical-align: middle;\n",
       "    }\n",
       "\n",
       "    .dataframe tbody tr th {\n",
       "        vertical-align: top;\n",
       "    }\n",
       "\n",
       "    .dataframe thead th {\n",
       "        text-align: right;\n",
       "    }\n",
       "</style>\n",
       "<table border=\"1\" class=\"dataframe\">\n",
       "  <thead>\n",
       "    <tr style=\"text-align: right;\">\n",
       "      <th></th>\n",
       "      <th>month</th>\n",
       "      <th>state</th>\n",
       "      <th>permit</th>\n",
       "      <th>handgun</th>\n",
       "      <th>long_gun</th>\n",
       "      <th>multiple</th>\n",
       "      <th>totals</th>\n",
       "    </tr>\n",
       "  </thead>\n",
       "  <tbody>\n",
       "    <tr>\n",
       "      <th>0</th>\n",
       "      <td>2017-09</td>\n",
       "      <td>Alabama</td>\n",
       "      <td>16717.0</td>\n",
       "      <td>5734.0</td>\n",
       "      <td>6320.0</td>\n",
       "      <td>317</td>\n",
       "      <td>32019</td>\n",
       "    </tr>\n",
       "    <tr>\n",
       "      <th>1</th>\n",
       "      <td>2017-09</td>\n",
       "      <td>Alaska</td>\n",
       "      <td>209.0</td>\n",
       "      <td>2320.0</td>\n",
       "      <td>2930.0</td>\n",
       "      <td>160</td>\n",
       "      <td>6303</td>\n",
       "    </tr>\n",
       "    <tr>\n",
       "      <th>2</th>\n",
       "      <td>2017-09</td>\n",
       "      <td>Arizona</td>\n",
       "      <td>5069.0</td>\n",
       "      <td>11063.0</td>\n",
       "      <td>7946.0</td>\n",
       "      <td>631</td>\n",
       "      <td>28394</td>\n",
       "    </tr>\n",
       "    <tr>\n",
       "      <th>3</th>\n",
       "      <td>2017-09</td>\n",
       "      <td>Arkansas</td>\n",
       "      <td>2935.0</td>\n",
       "      <td>4347.0</td>\n",
       "      <td>6063.0</td>\n",
       "      <td>366</td>\n",
       "      <td>17747</td>\n",
       "    </tr>\n",
       "    <tr>\n",
       "      <th>4</th>\n",
       "      <td>2017-09</td>\n",
       "      <td>California</td>\n",
       "      <td>57839.0</td>\n",
       "      <td>37165.0</td>\n",
       "      <td>24581.0</td>\n",
       "      <td>0</td>\n",
       "      <td>123506</td>\n",
       "    </tr>\n",
       "  </tbody>\n",
       "</table>\n",
       "</div>"
      ],
      "text/plain": [
       "     month       state   permit  handgun  long_gun  multiple  totals\n",
       "0  2017-09     Alabama  16717.0   5734.0    6320.0       317   32019\n",
       "1  2017-09      Alaska    209.0   2320.0    2930.0       160    6303\n",
       "2  2017-09     Arizona   5069.0  11063.0    7946.0       631   28394\n",
       "3  2017-09    Arkansas   2935.0   4347.0    6063.0       366   17747\n",
       "4  2017-09  California  57839.0  37165.0   24581.0         0  123506"
      ]
     },
     "execution_count": 9,
     "metadata": {},
     "output_type": "execute_result"
    }
   ],
   "source": [
    "#drop the columns the columns that won't be relevant for my analyis using the .drop function and print out the first 5 data.\n",
    "GunData.drop(['permit_recheck', 'other', 'admin', 'prepawn_handgun', 'prepawn_long_gun',\n",
    "       'prepawn_other', 'redemption_handgun', 'redemption_long_gun',\n",
    "       'redemption_other', 'returned_handgun', 'returned_long_gun',\n",
    "       'returned_other', 'rentals_handgun', 'rentals_long_gun',\n",
    "       'private_sale_handgun', 'private_sale_long_gun', 'private_sale_other',\n",
    "       'return_to_seller_handgun', 'return_to_seller_long_gun',\n",
    "       'return_to_seller_other'], axis=1, inplace= True)\n",
    "GunData.head()"
   ]
  },
  {
   "cell_type": "markdown",
   "id": "659711db",
   "metadata": {},
   "source": [
    "This result looks very different now, this is as a result of the .drop funtion, i dropped multiple columns that i won't be using in the analysis."
   ]
  },
  {
   "cell_type": "code",
   "execution_count": 10,
   "id": "3219713b",
   "metadata": {},
   "outputs": [
    {
     "name": "stdout",
     "output_type": "stream",
     "text": [
      "<class 'pandas.core.frame.DataFrame'>\n",
      "RangeIndex: 12485 entries, 0 to 12484\n",
      "Data columns (total 7 columns):\n",
      " #   Column    Non-Null Count  Dtype  \n",
      "---  ------    --------------  -----  \n",
      " 0   month     12485 non-null  object \n",
      " 1   state     12485 non-null  object \n",
      " 2   permit    12485 non-null  float64\n",
      " 3   handgun   12485 non-null  float64\n",
      " 4   long_gun  12485 non-null  float64\n",
      " 5   multiple  12485 non-null  int64  \n",
      " 6   totals    12485 non-null  int64  \n",
      "dtypes: float64(3), int64(2), object(2)\n",
      "memory usage: 682.9+ KB\n"
     ]
    }
   ],
   "source": [
    "#fill the null rows with 0 using the .fillna function\n",
    "GunData.fillna(0, inplace=True)\n",
    "GunData.info()"
   ]
  },
  {
   "cell_type": "markdown",
   "id": "e6ae7776",
   "metadata": {},
   "source": [
    "From the result of checking for null values, handgun, long_gun and permit had a small amount of mising  values and this can be filled in 0. upon investigation i discovered the missing values for handgun and longguns were mostly 0.0 so i filled it up with 0, based on the assumption that the guns weren't purchased in the affected state, and the sum for each individual rows returned the value in the total column. "
   ]
  },
  {
   "cell_type": "code",
   "execution_count": 11,
   "id": "43d6a226",
   "metadata": {},
   "outputs": [
    {
     "name": "stdout",
     "output_type": "stream",
     "text": [
      "<class 'pandas.core.frame.DataFrame'>\n",
      "RangeIndex: 12485 entries, 0 to 12484\n",
      "Data columns (total 7 columns):\n",
      " #   Column    Non-Null Count  Dtype         \n",
      "---  ------    --------------  -----         \n",
      " 0   month     12485 non-null  datetime64[ns]\n",
      " 1   state     12485 non-null  object        \n",
      " 2   permit    12485 non-null  int64         \n",
      " 3   handgun   12485 non-null  int64         \n",
      " 4   long_gun  12485 non-null  int64         \n",
      " 5   multiple  12485 non-null  int64         \n",
      " 6   totals    12485 non-null  int64         \n",
      "dtypes: datetime64[ns](1), int64(5), object(1)\n",
      "memory usage: 682.9+ KB\n"
     ]
    }
   ],
   "source": [
    "#changing Datatypes using astypes function\n",
    "GunData['month'] = GunData['month'].astype('datetime64[ns]') #changes the month from object to datetime column\n",
    "GunData['permit'] = GunData['permit'].astype('int64')  #changes the permit from float to integer\n",
    "GunData['handgun'] = GunData['handgun'].astype('int64') #changes the handgun from float to integer\n",
    "GunData['long_gun'] = GunData['long_gun'].astype('int64') #changes the longgun permit from float to integer\n",
    "GunData.info()"
   ]
  },
  {
   "cell_type": "markdown",
   "id": "aac7f563",
   "metadata": {},
   "source": [
    "The month column is a YY-MM date type of data, therefore it had to be converted from object type to datetime data, this is to enable easier analyis over a period of time. the permits and the guns are supposed to be integers, as a decimal number of gun can't be purchased only finite numbers can, therefore the type was converted to integers."
   ]
  },
  {
   "cell_type": "code",
   "execution_count": 12,
   "id": "5bf8dc7d",
   "metadata": {},
   "outputs": [
    {
     "data": {
      "text/plain": [
       "0"
      ]
     },
     "execution_count": 12,
     "metadata": {},
     "output_type": "execute_result"
    }
   ],
   "source": [
    "#check for duplicates\n",
    "sum(GunData.duplicated())"
   ]
  },
  {
   "cell_type": "markdown",
   "id": "1fea15b0",
   "metadata": {},
   "source": [
    "There are no duplicated data in this data."
   ]
  },
  {
   "cell_type": "markdown",
   "id": "327d62a4",
   "metadata": {},
   "source": [
    "## Exploratory Data Analysis\n",
    "This section is extensively on asking questions and drawing answers from the visualizations."
   ]
  },
  {
   "cell_type": "markdown",
   "id": "76fdf3eb",
   "metadata": {},
   "source": [
    "## Question 1: what state had the highest gun registration?"
   ]
  },
  {
   "cell_type": "code",
   "execution_count": 17,
   "id": "f23da627",
   "metadata": {},
   "outputs": [
    {
     "data": {
      "text/plain": [
       "Text(0.5, 1.0, 'Graph of Highest number of Gun Registration by State from year 1998 to 2017')"
      ]
     },
     "execution_count": 17,
     "metadata": {},
     "output_type": "execute_result"
    },
    {
     "data": {
      "image/png": "[encoded data removed]",
      "text/plain": [
       "<Figure size 1080x360 with 1 Axes>"
      ]
     },
     "metadata": {
      "needs_background": "light"
     },
     "output_type": "display_data"
    }
   ],
   "source": [
    "#using the groupby function to group by state\n",
    "highestRegistration = GunData.groupby('state')['totals'].sum()\n",
    "highestRegistration.plot(ylabel='total number (Millions)', kind='bar', figsize= (15,5)) # using the plot function to plot a bar graph\n",
    "highestRegistration.max()\n",
    "plt.title('Graph of Highest number of Gun Registration by State from year 1998 to 2017')"
   ]
  },
  {
   "cell_type": "markdown",
   "id": "3cba0960",
   "metadata": {},
   "source": [
    "This shows the state with the highest gun registration from 1998-2017. The state is kentucky with a total amount of 29762434 "
   ]
  },
  {
   "cell_type": "markdown",
   "id": "1330df00",
   "metadata": {},
   "source": [
    "## Question 2: What is the state with the maximum gun growth trend?"
   ]
  },
  {
   "cell_type": "code",
   "execution_count": 26,
   "id": "fe457bf6",
   "metadata": {},
   "outputs": [
    {
     "data": {
      "text/plain": [
       "(1468, 'Connecticut')"
      ]
     },
     "execution_count": 26,
     "metadata": {},
     "output_type": "execute_result"
    },
    {
     "data": {
      "image/png": "[encoded data removed]",
      "text/plain": [
       "<Figure size 1080x360 with 1 Axes>"
      ]
     },
     "metadata": {
      "needs_background": "light"
     },
     "output_type": "display_data"
    }
   ],
   "source": [
    "gunstate= GunData['state'].unique()  #getting the individual unique state\n",
    "\n",
    "def growth_trend(stateName): #defining a function to calculate the growth trend over any state\n",
    "    beg_state = GunData[GunData.state == stateName]['totals'].iloc[12:].sum() # total guns per year (12 months)  2017\n",
    "    end_state = GunData[GunData.state == stateName]['totals'].iloc[:12].sum()# total guns per year (12 months) 1998\n",
    "    return (beg_state - end_state)/ end_state*100\n",
    "\n",
    "State_list =(growth_trend(x) for x in gunstate) \n",
    "growth_list =np.fromiter (State_list, 'int') #using numpy iterator to get list of state growth\n",
    "plt.figure(figsize=(15, 5))\n",
    "plt.bar(gunstate,growth_list)\n",
    "plt.title('percentage growth of Guns from the year 1998 to 2017')\n",
    "plt.xlabel('State')\n",
    "plt.ylabel('% Growth')\n",
    "plt.xticks(rotation=90);\n",
    "sorted(zip(growth_list, gunstate), reverse=True)[0] #to get the highest state with gun growth trend"
   ]
  },
  {
   "cell_type": "markdown",
   "id": "67c67285",
   "metadata": {},
   "source": [
    "This shows the state with maximum number of growth trend, the sorted function is used to return a sorted list of the specified iterable object, since the growth list was an iterable object, it was parsed to the sorted function, which will return the list in descending order, hence the specification of True for the reverse attribute.\n",
    "Connecticut is the state with highest growth trend."
   ]
  },
  {
   "cell_type": "markdown",
   "id": "88d49459",
   "metadata": {},
   "source": [
    "## Question 3: What is the trend of Gun registration over the years"
   ]
  },
  {
   "cell_type": "code",
   "execution_count": 28,
   "id": "c1bfd939",
   "metadata": {},
   "outputs": [
    {
     "data": {
      "image/png": "[encoded data removed]",
      "text/plain": [
       "<Figure size 1080x360 with 1 Axes>"
      ]
     },
     "metadata": {
      "needs_background": "light"
     },
     "output_type": "display_data"
    }
   ],
   "source": [
    "#using the groupby function on the month column to get this, a datetime method will be applied to the month column\n",
    "#.dt.year it is to extract the year from the month column for further analysis.\n",
    "GunData.groupby(GunData.month.dt.year)['totals'].sum().plot(kind='line',figsize=(15,5))\n",
    "plt.xlabel('Years')\n",
    "plt.ylabel('Total Gun amount')\n",
    "plt.title('Guns Registration Trend')\n",
    "plt.xticks(np.arange(1998,2018));"
   ]
  },
  {
   "cell_type": "markdown",
   "id": "7c31af3c",
   "metadata": {},
   "source": [
    "This result shows the registration of Gun over the years, there was a steady increase in the amount of guns registration, it can be seen that there was a spike in 2016 and this can be concluded that there was a high purchase and registration of gun in this period."
   ]
  },
  {
   "cell_type": "markdown",
   "id": "50735ecc",
   "metadata": {},
   "source": [
    "## Question 4: Analyze and Compare the Guns bought in the state with the highest Gun Registration"
   ]
  },
  {
   "cell_type": "code",
   "execution_count": 29,
   "id": "d4321001",
   "metadata": {},
   "outputs": [
    {
     "data": {
      "text/html": [
       "<div>\n",
       "<style scoped>\n",
       "    .dataframe tbody tr th:only-of-type {\n",
       "        vertical-align: middle;\n",
       "    }\n",
       "\n",
       "    .dataframe tbody tr th {\n",
       "        vertical-align: top;\n",
       "    }\n",
       "\n",
       "    .dataframe thead th {\n",
       "        text-align: right;\n",
       "    }\n",
       "</style>\n",
       "<table border=\"1\" class=\"dataframe\">\n",
       "  <thead>\n",
       "    <tr style=\"text-align: right;\">\n",
       "      <th></th>\n",
       "      <th>month</th>\n",
       "      <th>state</th>\n",
       "      <th>permit</th>\n",
       "      <th>handgun</th>\n",
       "      <th>long_gun</th>\n",
       "      <th>multiple</th>\n",
       "      <th>totals</th>\n",
       "    </tr>\n",
       "  </thead>\n",
       "  <tbody>\n",
       "    <tr>\n",
       "      <th>18</th>\n",
       "      <td>2017-09-01</td>\n",
       "      <td>Kentucky</td>\n",
       "      <td>378384</td>\n",
       "      <td>8112</td>\n",
       "      <td>7543</td>\n",
       "      <td>543</td>\n",
       "      <td>398706</td>\n",
       "    </tr>\n",
       "    <tr>\n",
       "      <th>73</th>\n",
       "      <td>2017-08-01</td>\n",
       "      <td>Kentucky</td>\n",
       "      <td>376016</td>\n",
       "      <td>8039</td>\n",
       "      <td>6555</td>\n",
       "      <td>459</td>\n",
       "      <td>394718</td>\n",
       "    </tr>\n",
       "    <tr>\n",
       "      <th>128</th>\n",
       "      <td>2017-07-01</td>\n",
       "      <td>Kentucky</td>\n",
       "      <td>374603</td>\n",
       "      <td>7236</td>\n",
       "      <td>5118</td>\n",
       "      <td>419</td>\n",
       "      <td>390494</td>\n",
       "    </tr>\n",
       "    <tr>\n",
       "      <th>183</th>\n",
       "      <td>2017-06-01</td>\n",
       "      <td>Kentucky</td>\n",
       "      <td>373842</td>\n",
       "      <td>8765</td>\n",
       "      <td>5223</td>\n",
       "      <td>469</td>\n",
       "      <td>392002</td>\n",
       "    </tr>\n",
       "    <tr>\n",
       "      <th>238</th>\n",
       "      <td>2017-05-01</td>\n",
       "      <td>Kentucky</td>\n",
       "      <td>374078</td>\n",
       "      <td>8690</td>\n",
       "      <td>5378</td>\n",
       "      <td>433</td>\n",
       "      <td>391740</td>\n",
       "    </tr>\n",
       "    <tr>\n",
       "      <th>...</th>\n",
       "      <td>...</td>\n",
       "      <td>...</td>\n",
       "      <td>...</td>\n",
       "      <td>...</td>\n",
       "      <td>...</td>\n",
       "      <td>...</td>\n",
       "      <td>...</td>\n",
       "    </tr>\n",
       "    <tr>\n",
       "      <th>12228</th>\n",
       "      <td>1999-03-01</td>\n",
       "      <td>Kentucky</td>\n",
       "      <td>0</td>\n",
       "      <td>9397</td>\n",
       "      <td>10944</td>\n",
       "      <td>399</td>\n",
       "      <td>20740</td>\n",
       "    </tr>\n",
       "    <tr>\n",
       "      <th>12283</th>\n",
       "      <td>1999-02-01</td>\n",
       "      <td>Kentucky</td>\n",
       "      <td>0</td>\n",
       "      <td>9961</td>\n",
       "      <td>11874</td>\n",
       "      <td>476</td>\n",
       "      <td>22311</td>\n",
       "    </tr>\n",
       "    <tr>\n",
       "      <th>12338</th>\n",
       "      <td>1999-01-01</td>\n",
       "      <td>Kentucky</td>\n",
       "      <td>0</td>\n",
       "      <td>7938</td>\n",
       "      <td>9634</td>\n",
       "      <td>337</td>\n",
       "      <td>17909</td>\n",
       "    </tr>\n",
       "    <tr>\n",
       "      <th>12393</th>\n",
       "      <td>1998-12-01</td>\n",
       "      <td>Kentucky</td>\n",
       "      <td>0</td>\n",
       "      <td>10875</td>\n",
       "      <td>19744</td>\n",
       "      <td>410</td>\n",
       "      <td>31029</td>\n",
       "    </tr>\n",
       "    <tr>\n",
       "      <th>12448</th>\n",
       "      <td>1998-11-01</td>\n",
       "      <td>Kentucky</td>\n",
       "      <td>0</td>\n",
       "      <td>368</td>\n",
       "      <td>462</td>\n",
       "      <td>10</td>\n",
       "      <td>840</td>\n",
       "    </tr>\n",
       "  </tbody>\n",
       "</table>\n",
       "<p>227 rows × 7 columns</p>\n",
       "</div>"
      ],
      "text/plain": [
       "           month     state  permit  handgun  long_gun  multiple  totals\n",
       "18    2017-09-01  Kentucky  378384     8112      7543       543  398706\n",
       "73    2017-08-01  Kentucky  376016     8039      6555       459  394718\n",
       "128   2017-07-01  Kentucky  374603     7236      5118       419  390494\n",
       "183   2017-06-01  Kentucky  373842     8765      5223       469  392002\n",
       "238   2017-05-01  Kentucky  374078     8690      5378       433  391740\n",
       "...          ...       ...     ...      ...       ...       ...     ...\n",
       "12228 1999-03-01  Kentucky       0     9397     10944       399   20740\n",
       "12283 1999-02-01  Kentucky       0     9961     11874       476   22311\n",
       "12338 1999-01-01  Kentucky       0     7938      9634       337   17909\n",
       "12393 1998-12-01  Kentucky       0    10875     19744       410   31029\n",
       "12448 1998-11-01  Kentucky       0      368       462        10     840\n",
       "\n",
       "[227 rows x 7 columns]"
      ]
     },
     "execution_count": 29,
     "metadata": {},
     "output_type": "execute_result"
    }
   ],
   "source": [
    "#create a new dataframe for kentucky\n",
    "kent=GunData[GunData['state']== 'Kentucky']\n",
    "kent"
   ]
  },
  {
   "cell_type": "code",
   "execution_count": 30,
   "id": "7efc02a8",
   "metadata": {},
   "outputs": [
    {
     "data": {
      "text/plain": [
       "Text(0.5, 1.0, 'Comparison of handgun and Longgun over the years')"
      ]
     },
     "execution_count": 30,
     "metadata": {},
     "output_type": "execute_result"
    },
    {
     "data": {
      "image/png": "[encoded data removed]",
      "text/plain": [
       "<Figure size 1080x360 with 1 Axes>"
      ]
     },
     "metadata": {
      "needs_background": "light"
     },
     "output_type": "display_data"
    }
   ],
   "source": [
    "#group the data by the year and compare the guns purchased with a bar graph\n",
    "kent.groupby(kent.month.dt.year)[['handgun', 'long_gun']].sum().plot(kind='bar', figsize=(15,5))\n",
    "plt.ylabel('Total Gun amount')\n",
    "plt.title('Comparison of handgun and Longgun over the years')"
   ]
  },
  {
   "cell_type": "markdown",
   "id": "759a8556",
   "metadata": {},
   "source": [
    "This shows the Gun purchase over the years in kentucky for handgun and longguns"
   ]
  },
  {
   "cell_type": "markdown",
   "id": "3da96ced",
   "metadata": {},
   "source": [
    "## Question 5: Show the Frequency Distribution of the Data with appropriate graphs.\n"
   ]
  },
  {
   "cell_type": "code",
   "execution_count": 31,
   "id": "0d1c4fb6",
   "metadata": {},
   "outputs": [
    {
     "data": {
      "text/plain": [
       "<AxesSubplot:>"
      ]
     },
     "execution_count": 31,
     "metadata": {},
     "output_type": "execute_result"
    },
    {
     "data": {
      "image/png": "[encoded data removed]",
      "text/plain": [
       "<Figure size 432x288 with 1 Axes>"
      ]
     },
     "metadata": {
      "needs_background": "light"
     },
     "output_type": "display_data"
    }
   ],
   "source": [
    "#this is to show the values of the data against the values present in the data. a boxplot or hist can be used\n",
    "GunData.boxplot()"
   ]
  },
  {
   "cell_type": "markdown",
   "id": "bf8714f0",
   "metadata": {},
   "source": [
    "The values are not evenly distrubuted, the columns have large number of data values and quite a number of outliers especially the permit and the total column. The interquartile range all fall within 0-1000000"
   ]
  },
  {
   "cell_type": "code",
   "execution_count": 32,
   "id": "06fe9833",
   "metadata": {},
   "outputs": [
    {
     "data": {
      "text/plain": [
       "array([[<AxesSubplot:title={'center':'month'}>,\n",
       "        <AxesSubplot:title={'center':'permit'}>],\n",
       "       [<AxesSubplot:title={'center':'handgun'}>,\n",
       "        <AxesSubplot:title={'center':'long_gun'}>],\n",
       "       [<AxesSubplot:title={'center':'multiple'}>,\n",
       "        <AxesSubplot:title={'center':'totals'}>]], dtype=object)"
      ]
     },
     "execution_count": 32,
     "metadata": {},
     "output_type": "execute_result"
    },
    {
     "data": {
      "image/png": "[encoded data removed]",
      "text/plain": [
       "<Figure size 864x576 with 6 Axes>"
      ]
     },
     "metadata": {
      "needs_background": "light"
     },
     "output_type": "display_data"
    }
   ],
   "source": [
    "#in order to see the frequency distrubtion better, i am using an histogram\n",
    "GunData.hist(figsize=(12,8))"
   ]
  },
  {
   "cell_type": "markdown",
   "id": "090d6d94",
   "metadata": {},
   "source": [
    "The month column shows there was data for every year, the long gu, handgun and total can be said to be right (positive) skewed. the statiscal summary can be seen in the result of GunData.describe(), it showed the minimum value of the data to be zero which can be said no Gun was purchased."
   ]
  },
  {
   "cell_type": "markdown",
   "id": "9c7e426b",
   "metadata": {},
   "source": [
    "# Conclusion\n",
    "From the exploration and Data Analysis process above, it can be seen that there have been a trend of purchasing and registration of guns in the States of America and it grows exponentially (i.e as the year goes by so does the the demands for Guns).\n",
    "It can also be concluded that due to some happenings in 2016 there was a spike in Gun Purchase. \n",
    "Kentucky had the highest amount of purchased guns and in 2016 they had more sales of Hand guns.\n",
    "From the frequency distribution of Data it can be seen that the minimum purchase of Gun is 0 which means no Gun was purchased."
   ]
  },
  {
   "cell_type": "markdown",
   "id": "a9b606fd",
   "metadata": {},
   "source": [
    "# Limitations\n",
    "\n",
    "The Data values aren't distributed normally,  this can be as a result of the low or no purchase of some states,  all the states do not purchase the same amount of Guns.\n",
    "Another limitation is the lack of context, why do people purchase guns, it could be for protections, it could be for hunting (longguns) or it could be for mishap. The reason for gun purchase should be known and fire arms should not just be easy to have for having sake.\n"
   ]
  },
  {
   "cell_type": "markdown",
   "id": "659af8fd",
   "metadata": {},
   "source": [
    "# Recommendations\n",
    "The 2016 Data can be looked into and should be related with what was happening in America in 2016, why was there a spike in owning a gun. was there an increase in crime rate, was there a disaster and so much more."
   ]
  }
 ],
 "metadata": {
  "kernelspec": {
   "display_name": "Python 3 (ipykernel)",
   "language": "python",
   "name": "python3"
  },
  "language_info": {
   "codemirror_mode": {
    "name": "ipython",
    "version": 3
   },
   "file_extension": ".py",
   "mimetype": "text/x-python",
   "name": "python",
   "nbconvert_exporter": "python",
   "pygments_lexer": "ipython3",
   "version": "3.8.12"
  }
 },
 "nbformat": 4,
 "nbformat_minor": 5
}
